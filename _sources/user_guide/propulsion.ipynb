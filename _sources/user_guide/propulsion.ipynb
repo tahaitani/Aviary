{
 "cells": [
  {
   "cell_type": "markdown",
   "id": "f99121f3",
   "metadata": {},
   "source": [
    "# Propulsion\n",
    "\n",
    "The propulsion subsystem in Aviary organizes and executes models for engine sizing and performance.\n",
    "\n",
    "Aviary does not natively model gas-turbine or electric motor performance, and instead relies on user-provided data and/or custom performance models to perform propulsion analysis.\n",
    "\n",
    "Aviary supports an arbitrary number of propulsor models on a vehicle, each with their own unique properties such as performance characteristics, scaling behaviors, and number of propulsors for that given type. \n",
    "<!-- A diagram would be helpful here, showing X propulsors of type A and Y propulsors of type B on an outline of an aircraft -->\n",
    "Each unique type of engine is referred to as an engine model<!-- Link to wherever this class is described - theory guide? -->. In Aviary, an engine model contains information on how to size and estimate performance for a single instance of an engine of that type. During analysis, Aviary handles summing performance data to a system level. This way, information is available on the performance of both a single instance of an engine, as well as aircraft-level totals, for other Aviary subsystems to utilize.\n",
    "\n",
    "```{note}\n",
    "In Aviary, when we refer to multiple engines of the same type, we say they are homogenous. When you are dealing with multiple engines of different types, we say they are heterogeneous.\n",
    "``` "
   ]
  },
  {
   "cell_type": "markdown",
   "id": "54faaf1d",
   "metadata": {},
   "source": [
    "## Engine Decks\n",
    "<!--parts of this are probably theory?-->\n",
    "The built-in way Aviary handles engine performance is by interpolating tabular data from a user-defined file that describes performance characteristics for a given engine. Engines modeled in this manner are called engine decks<!-- Link to wherever this class is described - theory guide? -->. Engine decks are a type of engine model - they use the same basic interface, but have additional functionality to handle reading and processing data files."
   ]
  },
  {
   "cell_type": "markdown",
   "id": "89776931",
   "metadata": {},
   "source": [
    "### Formatting\n",
    "An engine deck data file requires specific formatting for Aviary to correctly interpret. These files must follow the [Aviary data file format](input_files). An example of a properly-formatted engine deck can be found [here](https://github.com/OpenMDAO/Aviary/blob/main/aviary/models/engines/turbofan_22k.deck)."
   ]
  },
  {
   "cell_type": "markdown",
   "id": "a40a458d",
   "metadata": {},
   "source": [
    "### Variables\n",
    "\n",
    "The following engine performance parameters are supported natively by Aviary for use in engine decks. If units are not specified, the default units are assumed. A variety of alternate names for these variables are understood by Aviary, but it is recommended to use the official names given here. A column with a header not recognized by Aviary will be ignored, with a warning raised at runtime. This allows for variables not used by Aviary to still be included in a data file, either for reference or compatibility with another analysis tool.\n",
    "\n",
    "<!-- default variables and their units are not finalized -->\n",
    "| Variable | Default Units | Required? |\n",
    "| :--- | :--- | :---: |\n",
    "| `Mach Number` | unitless | &#x2714; |\n",
    "| `Altitude` | ft | &#x2714; |\n",
    "| `Throttle` | unitless | &#x2714; |\n",
    "| `Hybrid Throttle` | unitless | &#x2718; |\n",
    "| `Net Thrust` | lbf | &#x2714;* |\n",
    "| `Gross Thrust` | lbf | &#x2718; |\n",
    "| `Ram Drag` | lbf | &#x2718; |\n",
    "| `Fuel Flow Rate` | lbm/h | &#x2718; |\n",
    "| `Electric Power` | kW | &#x2718; |\n",
    "| `NOx Rate` | lbm/h | &#x2718; |\n",
    "| `T4 Temperature` | degR | &#x2718; |\n",
    "\n",
    "**`Net Thrust` (defined as `Gross Thrust` - `Ram Drag`) is not required if both of those variables are provided for calculation*\n",
    "\n",
    "`Mach Number`, `Altitude`, and the two throttle parameters are independent variables required to describe the operating conditions of the engine. `Hybrid Throttle` is optional, and is intended for use as a second degree of control for engines using independently controllable fuel- and electric-based power. The remaining variables are dependent on the operating conditions and are therefore typically optional.\n",
    "\n",
    "Engine decks without headers are assumed to contain only the required variable set, in the order specified by the table (`Mach`, `Altitude`, `Throttle`, and `Net Thrust`), and with default units.\n",
    "\n",
    "Comments may be added to an engine deck data file by using a '`#`' symbol preceding the comment. Anything after this symbol on that line is ignored by Aviary, allowing the user to temporarily remove data points or add in-line comments with context for the data. It is good practice to include comments at the start of the file to explain what kind of engine the data represents, and where it came from."
   ]
  },
  {
   "cell_type": "code",
   "execution_count": null,
   "id": "e0344b4f",
   "metadata": {
    "tags": [
     "remove-cell"
    ]
   },
   "outputs": [],
   "source": [
    "# Testing Cell\n",
    "from aviary.subsystems.propulsion.engine_deck import aliases, default_required_variables\n",
    "from aviary.subsystems.propulsion.utils import EngineModelVariables\n",
    "from aviary.docs.tests.utils import check_value\n",
    "\n",
    "vars = ['Mach Number', 'Altitude', 'Throttle', 'Hybrid Throttle', 'Net Thrust',\n",
    "        'Gross Thrust', 'Ram Drag', 'Fuel Flow Rate', 'Electric Power', 'NOx Rate',\n",
    "        'T4 Temperature']\n",
    "required = ['Mach', 'Altitude', 'Throttle', 'Net Thrust']\n",
    "\n",
    "def str_to_enum(list_of_vars):\n",
    "    for ii, var in enumerate(list_of_vars):\n",
    "        for enum, alias in aliases.items():\n",
    "            if var.lower().replace(' ','_') in alias:\n",
    "                list_of_vars[ii] = enum\n",
    "                break\n",
    "        if not isinstance(list_of_vars[ii], EngineModelVariables):\n",
    "            raise TypeError(f'\"{var}\" could not be mapped to EngineModelVariables')\n",
    "        \n",
    "# Check that all of variables in the table have an associated EngineModelVariable\n",
    "str_to_enum(vars)\n",
    "str_to_enum(required)\n",
    "check_value(set(required), default_required_variables)\n"
   ]
  },
  {
   "cell_type": "markdown",
   "id": "3c8573d8",
   "metadata": {},
   "source": [
    "## Setting Up Propulsion Analysis\n",
    "\n",
    "### Beginner Guide\n",
    "\n",
    "To add an engine deck to Aviary, the minimum set of variables to describe it must be provided in your input file. This list includes:\n",
    "<!-- This list is for EngineDecks specifically, does that need clarification? No other engine model is currently planned to be supported with a level1 interface right? -->\n",
    "* `Aircraft.Engine.DATA_FILE`\n",
    "* `Aircraft.Engine.SCALE_PERFORMANCE`\n",
    "* `Aircraft.Engine.IGNORE_NEGATIVE_THRUST`\n",
    "* `Aircraft.Engine.GEOPOTENTIAL_ALT`\n",
    "* `Aircraft.Engine.GENERATE_FLIGHT_IDLE`\n",
    "* `Aircraft.Engine.NUM_WING_ENGINES` and/or `Aircraft.Engine.NUM_FUSELAGE_ENGINES`\n",
    "\n",
    "<!--At a system level, there a few variables you must include that affect all engines. This list includes: -->\n",
    "\n",
    "<!-- Additional variables are required but will depend on preprocessor behavior, which is not finalized. NUM_WING_ENGINES & NUM_FUSELAGE_ENGINES vs NUM_ENGINES behavior, SCALE_FACTOR vs. SCALED_SLS_THRUST, etc. -->"
   ]
  },
  {
   "cell_type": "code",
   "execution_count": null,
   "id": "5918d669",
   "metadata": {
    "tags": [
     "remove-cell"
    ]
   },
   "outputs": [],
   "source": [
    "# Testing Cell\n",
    "from aviary.api import Aircraft\n",
    "from aviary.subsystems.propulsion.engine_deck import required_options\n",
    "from aviary.docs.tests.utils import check_value\n",
    "ae = Aircraft.Engine\n",
    "\n",
    "required = (ae.DATA_FILE, ae.SCALE_PERFORMANCE, ae.IGNORE_NEGATIVE_THRUST, ae.GEOPOTENTIAL_ALT, ae.GENERATE_FLIGHT_IDLE)\n",
    "# ********NOTE******** #\n",
    "# these do not match, should the docs be updated?\n",
    "# check_value(required,required_options)"
   ]
  },
  {
   "cell_type": "markdown",
   "id": "396177be",
   "metadata": {},
   "source": [
    "If generating flight idle points is desired, the following variables are also required. More information on flight idle generation is available here <!--TODO link here-->.\n",
    "\n",
    "* `Aircraft.Engine.FLIGHT_IDLE_THRUST_FRACTION`\n",
    "* `Aircraft.Engine.FLIGHT_IDLE_MIN_FRACTION`\n",
    "* `Aircraft.Engine.FLIGHT_IDLE_MAX_FRACTION`\n",
    "\n",
    "If you are missing any required variables, you will see a warning at runtime. Aviary will try using the default value for the missing variable, which may affect analysis results.\n",
    "\n",
    "```bash\n",
    "UserWarning: <aircraft:engine:scale_performance> is a required option for EngineDecks, but has not been specified for EngineDeck <example>. The default value will be used.\n",
    "```\n",
    "\n",
    "<!-- See !!!LINK HERE!!! for a complete list of all available options to define engine behavior -->\n",
    "\n",
    "<!-- Section on setting up Propulsion-level variables, which ones are required? -->"
   ]
  },
  {
   "cell_type": "code",
   "execution_count": null,
   "id": "5af6cc2c",
   "metadata": {
    "tags": [
     "remove-cell"
    ]
   },
   "outputs": [],
   "source": [
    "# Testing Cell\n",
    "from aviary.api import Aircraft\n",
    "from aviary.subsystems.propulsion.engine_deck import dependent_options\n",
    "from aviary.docs.tests.utils import check_value\n",
    "ae = Aircraft.Engine\n",
    "\n",
    "required = (ae.FLIGHT_IDLE_THRUST_FRACTION, ae.FLIGHT_IDLE_MIN_FRACTION, ae.FLIGHT_IDLE_MAX_FRACTION)\n",
    "check_value(required,dependent_options[ae.GENERATE_FLIGHT_IDLE])"
   ]
  },
  {
   "cell_type": "markdown",
   "id": "bb80435f",
   "metadata": {},
   "source": [
    "### Intermediate Guide\n",
    "\n",
    "Engine models are defined in Aviary using an `EngineModel` object. An `EngineModel` is responsible for handling many tasks required to prepare an engine for use in Aviary, such as reading engine data from a file in the case of an `EngineDeck` (which is a child class of `EngineModel`). <!-- link to theory guide? -->\n",
    "\n",
    "An `EngineModel` (and classes inheriting it) can be manually created and added to the Aviary problem. This is extremely useful when setting up an aircraft with multiple heterogenous types, each with unique properties, or using a custom engine model. An `EngineModel` requires an `AviaryValues` object containing the variables required for that engine (such as those outlined in the Beginner Guide example for `EngineDecks`)<!-- link to that subsection -->."
   ]
  },
  {
   "cell_type": "code",
   "execution_count": null,
   "id": "a32de86f",
   "metadata": {
    "tags": [
     "remove-cell"
    ]
   },
   "outputs": [],
   "source": [
    "# Testing Cell\n",
    "from aviary.subsystems.propulsion.engine_model import EngineModel\n",
    "from aviary.subsystems.propulsion.engine_deck import EngineDeck\n",
    "from aviary.docs.tests.utils import check_value\n",
    "from aviary.utils.aviary_values import AviaryValues\n",
    "import inspect\n",
    "\n",
    "check_value(EngineDeck.__base__, EngineModel)\n",
    "type_hint = inspect.signature(EngineModel).parameters['options'].annotation\n",
    "check_value(type_hint, AviaryValues)"
   ]
  },
  {
   "cell_type": "code",
   "execution_count": null,
   "id": "742596ec",
   "metadata": {},
   "outputs": [],
   "source": [
    "# enforce uniform code style across documentation\n",
    "import aviary.api as av\n",
    "from aviary.utils.functions import get_path\n",
    "from aviary.variable_info.variables import Aircraft\n",
    "\n",
    "aviary_options = av.AviaryValues()\n",
    "\n",
    "# Add relevant inputs and options to engine_options\n",
    "# using engine_options.set_val(...)\n",
    "filename = get_path('models/engines/turbofan_28k.deck')\n",
    "aviary_options.set_val(Aircraft.Engine.DATA_FILE, filename)\n",
    "aviary_options.set_val(Aircraft.Engine.SUBSONIC_FUEL_FLOW_SCALER, 0.9)\n",
    "\n",
    "# It is assumed here that aviary_options is configured to have\n",
    "# all inputs needed for analysis, except engine-level values\n",
    "engine_model = av.EngineModel(name='example',\n",
    "                           options=aviary_options)"
   ]
  },
  {
   "cell_type": "markdown",
   "id": "19e31c3b",
   "metadata": {},
   "source": [
    "Once an `EngineModel` has been created, it must be added to the Aviary analysis you want to perform. The simplest way to do this is to take advantage of the propulsion preprocessor utility. This preprocessor handles all of the details of getting data related to `EngineModels`, which may change during initialization, correctly set up in the `AviaryValues` object which is used to define the vehicle at the Aviary problem level."
   ]
  },
  {
   "cell_type": "code",
   "execution_count": null,
   "id": "5274e61f",
   "metadata": {},
   "outputs": [],
   "source": [
    "av.preprocess_propulsion(aviary_options=aviary_options,\n",
    "                         engine_models=[engine_model])"
   ]
  },
  {
   "cell_type": "markdown",
   "id": "bbabdf30",
   "metadata": {},
   "source": [
    "In this example, *aviary_options* is modified in-place with updated values from *engine_model*, as well as properly configuring engine-related variables into vectors. When working with multiple heterogenous engines, simply provide `preprocess_propulsion()` with a list of all `EngineModels`, like so:"
   ]
  },
  {
   "cell_type": "code",
   "execution_count": null,
   "id": "6bab1436",
   "metadata": {
    "tags": [
     "remove-cell"
    ]
   },
   "outputs": [],
   "source": [
    "# Testing Cell\n",
    "import aviary.api as av\n",
    "\n",
    "filename = 'models/engines/turbofan_28k.deck'\n",
    "options = av.AviaryValues()\n",
    "options.set_val(av.Aircraft.Engine.DATA_FILE, av.get_path(filename))\n",
    "options.set_val(av.Aircraft.Engine.INTERPOLATION_METHOD, 'slinear')\n",
    "\n",
    "engine_model_1 = av.EngineDeck(options=options)\n",
    "engine_model_2 = av.EngineModel(options=options)\n",
    "aviary_options = options"
   ]
  },
  {
   "cell_type": "code",
   "execution_count": null,
   "id": "32757b0c",
   "metadata": {
    "tags": [
     "remove-output"
    ]
   },
   "outputs": [],
   "source": [
    "av.preprocess_propulsion(aviary_options=aviary_options,\n",
    "                         engine_models=[engine_model_1,\n",
    "                                        engine_model_2])\n"
   ]
  },
  {
   "cell_type": "markdown",
   "id": "c679d365",
   "metadata": {},
   "source": [
    "The propulsion preprocessor is also capable of creating an `EngineDeck` based on existing inputs in the provided `AviaryValues` object and add it to the analysis, which is what is done behind-the-scenes in the Level 1 interface. To use the preprocessor in this way, simply do not provide an `EngineModel` to the function:"
   ]
  },
  {
   "cell_type": "code",
   "execution_count": null,
   "id": "00eedc54",
   "metadata": {
    "tags": [
     "remove-output"
    ]
   },
   "outputs": [],
   "source": [
    "# ********NOTE********\n",
    "# this fails if no engine models are provided:\n",
    "# num_engine_type = len(engine_models)\n",
    "# TypeError: object of type 'NoneType' has no len()\n",
    "#av.preprocess_propulsion(aviary_options=aviary_options)\n"
   ]
  },
  {
   "cell_type": "markdown",
   "id": "f9f522c5",
   "metadata": {},
   "source": [
    "### Advanced Guide\n",
    "\n",
    "This section is a work in progress. Please check back later for more information."
   ]
  }
 ],
 "metadata": {
  "kernelspec": {
   "display_name": "Python 3 (ipykernel)",
   "language": "python",
   "name": "python3"
  },
  "language_info": {
   "codemirror_mode": {
    "name": "ipython",
    "version": 3
   },
   "file_extension": ".py",
   "mimetype": "text/x-python",
   "name": "python",
   "nbconvert_exporter": "python",
   "pygments_lexer": "ipython3",
   "version": "3.1.-1"
  }
 },
 "nbformat": 4,
 "nbformat_minor": 5
}
