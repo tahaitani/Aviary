{
 "cells": [
  {
   "cell_type": "markdown",
   "metadata": {},
   "source": [
    "# Mass Subsystem\n",
    "\n",
    "The mass subsystem in Aviary plays a straightforward but crucial role.\n",
    "We need to know a reasonable estimate for the mass of an aircraft to evaluate its performance.\n",
    "The mass subsystem provides this estimate.\n",
    "\n",
    "```{note}\n",
    "The mass subsystem in Aviary is similar to the \"weights\" or \"weights and balances\" in other tools or aircraft design.\n",
    "```\n",
    "\n",
    "## Overview\n",
    "\n",
    "Aviary's mass subsystem is designed to accommodate different methodologies, including FLOPS-based and GASP-based approaches, catering to diverse design needs and preferences. The subsystem is divided into multiple components, each handling specific aspects of mass calculation.\n",
    "\n",
    "### FLOPS-Based Components\n",
    "\n",
    "- **Total Mass Summation:** Orchestrates the calculation of the total mass by summing up contributions from structural, propulsion, systems and equipment, and fuel masses.\n",
    "- **Structure Mass:** Calculates the mass contributions from the aircraft's structural components like wings, fuselage, landing gear, etc.\n",
    "- **Propulsion Mass:** Computes the mass related to the aircraft's propulsion system, including engines and associated components.\n",
    "- **Systems and Equipment Mass:** Determines the mass of systems and equipment on the aircraft, with an alternative calculation option (`AltSystemsEquipMass`) available.\n",
    "- **Empty Mass:** Represents the total mass of the aircraft without fuel, calculated using either standard or alternative methods.\n",
    "- **Operating Mass:** Accounts for the mass of the crew, passengers, and service items in addition to the empty mass.\n",
    "- **Zero Fuel Mass:** The total mass of the aircraft without considering the fuel.\n",
    "- **Fuel Mass:** Calculates the mass of the fuel required for the mission.\n",
    "\n",
    "### GASP-Based Components\n",
    "\n",
    "- **Design Load Group:** Establishes design load parameters that influence other mass calculations.\n",
    "- **Fixed Mass Group:** Deals with fixed masses, like payload and engine mass, that are essential in determining the wing and fuel mass.\n",
    "- **Equip and Useful Load Mass:** Calculates the equipment and useful load mass, vital for determining the aircraft's operability.\n",
    "- **Wing Mass Group:** Computes the mass of the wing, influenced by fixed mass group outputs.\n",
    "- **Fuel Mass Group:** Determines the fuel mass, taking into account design load and fixed mass group parameters.\n",
    "\n",
    "## Using the Mass Subsystem\n",
    "\n",
    "The choice of which code's methods for mass estimate to use is set using the variable `settings:mass_method`. This variable can be specified in the Aviary input file or can be manually set when using the Level 2 or 3 interface.\n",
    "To effectively use the mass subsystem in Aviary, users need to provide reasonable estimates for mass-related variables in their aircraft .csv file.\n",
    "Which variables are used depends on which mass estimation subsystem you're using, such as `aircraft:crew_and_payload:mass_per_passenger`, `aircraft:engine:additional_mass_fraction`, etc.\n",
    "\n",
    "Aviary allows for extensive customization and extensions within the mass subsystem.\n",
    "Users can develop alternative components and integrate them as subsystems with the existing platform."
   ]
  },
  {
   "cell_type": "code",
   "execution_count": null,
   "metadata": {
    "tags": [
     "remove-cell"
    ]
   },
   "outputs": [],
   "source": [
    "# Testing Cell\n",
    "from aviary.api import Aircraft, Settings\n",
    "from aviary.docs.tests.utils import check_value\n",
    "check_value(Settings.MASS_METHOD,'settings:mass_method')\n",
    "check_value(Aircraft.CrewPayload.MASS_PER_PASSENGER,'aircraft:crew_and_payload:mass_per_passenger')\n",
    "check_value(Aircraft.Engine.ADDITIONAL_MASS_FRACTION,'aircraft:engine:additional_mass_fraction')"
   ]
  }
 ],
 "metadata": {
  "language_info": {
   "name": "python"
  }
 },
 "nbformat": 4,
 "nbformat_minor": 2
}
