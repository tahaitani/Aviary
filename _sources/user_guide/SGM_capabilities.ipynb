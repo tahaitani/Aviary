{
 "cells": [
  {
   "cell_type": "markdown",
   "metadata": {},
   "source": [
    "# Key SGM Capabilities\n",
    "\n",
    "Shooting (or Forward in Time Integration) methods offer several benefits over collocation methods that some users might find useful:\n",
    "* Trajectories are physical for every iteration of the optimization (including failed optimizations)\n",
    "* Little to no initial guessing required for the trajectory\n",
    "* Dynamically ordered events and phases\n",
    "\n",
    "## Setting up ODEs\n",
    "\n",
    "SGM expects all of the states (including time) as inputs to the ODE and the state rates as outputs.\n",
    "If a particular state does not directly influence the EOM (such as distance in the GASP based climb_eom), it can be added using the built in helper functions:"
   ]
  },
  {
   "cell_type": "code",
   "execution_count": null,
   "metadata": {
    "tags": [
     "remove-cell"
    ]
   },
   "outputs": [],
   "source": [
    "from aviary.mission.gasp_based.ode.base_ode import BaseODE\n",
    "from aviary.variable_info.variables import Dynamic, Settings, Mission, Aircraft\n",
    "from aviary.variable_info.enums import AnalysisScheme, Verbosity, LegacyCode\n",
    "from aviary.mission.gasp_based.ode.time_integration_base_classes import SimuPyProblem\n",
    "from aviary.mission.gasp_based.ode.rotation_ode import RotationODE\n",
    "from aviary.utils.aviary_values import AviaryValues\n",
    "\n",
    "from aviary.subsystems.propulsion.propulsion_builder import CorePropulsionBuilder\n",
    "from aviary.subsystems.aerodynamics.aerodynamics_builder import CoreAerodynamicsBuilder\n",
    "from aviary.subsystems.propulsion.utils import build_engine_deck\n",
    "from aviary.utils.process_input_decks import create_vehicle, update_GASP_options\n",
    "from aviary.interface.download_models import get_model\n",
    "\n",
    "aviary_inputs, initial_guesses = create_vehicle(get_model('aircraft_for_bench_GwGm.csv'))\n",
    "aviary_inputs = update_GASP_options(aviary_inputs)\n",
    "aviary_inputs.set_val(Mission.Summary.CRUISE_MASS_FINAL,\n",
    "                                  val=initial_guesses['cruise_mass_final'], units='lbm')\n",
    "aviary_inputs.set_val(Mission.Summary.GROSS_MASS,\n",
    "                        val=initial_guesses['actual_takeoff_mass'], units='lbm')\n",
    "aviary_inputs.set_val(Aircraft.Engine.NUM_ENGINES, val=[1], units='unitless')\n",
    "default_mission_subsystems = [\n",
    "    CoreAerodynamicsBuilder('core_aerodynamics', code_origin=LegacyCode.GASP),\n",
    "    CorePropulsionBuilder('core_propulsion',engine_models=build_engine_deck(aviary_inputs))\n",
    "    ]\n",
    "ode_args = {'aviary_options':aviary_inputs,\n",
    "            'core_subsystems': default_mission_subsystems}"
   ]
  },
  {
   "cell_type": "code",
   "execution_count": null,
   "metadata": {},
   "outputs": [],
   "source": [
    "from aviary.mission.gasp_based.ode.time_integration_base_classes import add_SGM_required_inputs, add_SGM_required_outputs\n",
    "\n",
    "class ClimbODE(BaseODE):\n",
    "    # ## ... ## #\n",
    "    def setup(self):\n",
    "        # ## ... ## #\n",
    "        analysis_scheme = self.options[\"analysis_scheme\"]\n",
    "        # ## ... ## #\n",
    "        if analysis_scheme is AnalysisScheme.SHOOTING:\n",
    "            add_SGM_required_inputs(self, {\n",
    "                't_curr': {'units': 's'},\n",
    "                Dynamic.Mission.DISTANCE: {'units': 'ft'},\n",
    "                'alt_trigger': {'units': self.options['alt_trigger_units'], 'val': 10e3},\n",
    "                'speed_trigger': {'units': self.options['speed_trigger_units'], 'val': 100},\n",
    "            })\n"
   ]
  },
  {
   "cell_type": "markdown",
   "metadata": {},
   "source": [
    "these functions allow the user to leave the EOMs unmodified for collocation vs shooting, and provide an easy way to set the units, default values, and any other keyword args for the OpenMDAO functions [add_input and add_output](https://openmdao.org/newdocs/versions/latest/features/core_features/working_with_components/continuous_variables.html) for any variables that only used by SGM.\n",
    "\n",
    "## Setting up Phases\n",
    "\n",
    "Each SGM phase should inherit from SimuPyProblem and requires an instantiated ODE. If no states are provided Aviary will attempt to determine the states in the current phase by finding the state rates (any output that ends in `'_rate'`). States and their rates are expected to have the same name (other than the addition of the `'_rate'` suffix for the state rate), if the state rate associated with a state doesn't follow this pattern, it can be specified through `alternate_state_rate_names`, a dictionary with state names as the keys and the desired state rate as the value."
   ]
  },
  {
   "cell_type": "code",
   "execution_count": null,
   "metadata": {
    "tags": [
     "remove-cell"
    ]
   },
   "outputs": [],
   "source": [
    "# Testing Cell\n",
    "from aviary.mission.gasp_based.ode.time_integration_base_classes import SimuPyProblem\n",
    "from aviary.docs.tests.utils import check_args, check_value\n",
    "import inspect\n",
    "\n",
    "rate_suffix = inspect.signature(SimuPyProblem).parameters['rate_suffix'].default\n",
    "check_value(rate_suffix, '_rate')\n",
    "check_args(SimuPyProblem,'alternate_state_rate_names')"
   ]
  },
  {
   "cell_type": "code",
   "execution_count": null,
   "metadata": {},
   "outputs": [],
   "source": [
    "class SGMRotation(SimuPyProblem):\n",
    "    '''\n",
    "    This creates a subproblem for the rotation phase of the trajectory that will\n",
    "    be solved using SGM.\n",
    "    Rotation ends when the normal force on the runway reaches 0.\n",
    "    '''\n",
    "\n",
    "    def __init__(\n",
    "        self,\n",
    "        phase_name='rotation',\n",
    "        ode_args={},\n",
    "        simupy_args={},\n",
    "    ):\n",
    "        super().__init__(\n",
    "            RotationODE(analysis_scheme=AnalysisScheme.SHOOTING, **ode_args),\n",
    "            problem_name=phase_name,\n",
    "            outputs=[\"normal_force\", \"alpha\"],\n",
    "            states=[\n",
    "                Dynamic.Mission.MASS,\n",
    "                Dynamic.Mission.DISTANCE,\n",
    "                Dynamic.Mission.ALTITUDE,\n",
    "                Dynamic.Mission.VELOCITY,\n",
    "            ],\n",
    "            # state_units=['lbm','nmi','ft'],\n",
    "            alternate_state_rate_names={\n",
    "                Dynamic.Mission.MASS: Dynamic.Mission.FUEL_FLOW_RATE_NEGATIVE_TOTAL},\n",
    "            **simupy_args,\n",
    "        )\n",
    "\n",
    "        self.phase_name = phase_name\n",
    "        self.add_trigger(\"normal_force\", 0, units='lbf')"
   ]
  },
  {
   "cell_type": "markdown",
   "metadata": {},
   "source": [
    "One of the main benefits of SGM is the ability to add arbitrarily ordered phases using triggers. Aviary uses an `event_trigger` class to store the information necessary for SGM phases. Instantiated event_triggers can be passed directly to the problem, or the helper function self.add_trigger can be used to generate the triggers. Triggers are generally used to check when the value of a state reaches a certain value, but can be used with any output from the ODE, such as `normal_force` in SGMRotation. Multiple triggers can be added to one phase, but the event will be triggered by whichever condition is met first."
   ]
  },
  {
   "cell_type": "code",
   "execution_count": null,
   "metadata": {
    "tags": [
     "remove-cell"
    ]
   },
   "outputs": [],
   "source": [
    "# Testing Cell\n",
    "from aviary.mission.gasp_based.ode.time_integration_base_classes import event_trigger\n",
    "from aviary.mission.gasp_based.phases.time_integration_phases import SGMRotation\n",
    "from aviary.docs.tests.utils import check_value\n",
    "\n",
    "rotation_trigger: event_trigger = SGMRotation(ode_args=ode_args).triggers[0]\n",
    "check_value(rotation_trigger.state,'normal_force')\n"
   ]
  },
  {
   "cell_type": "markdown",
   "metadata": {},
   "source": [
    "## Setting up Trajectories\n",
    "\n",
    "Aviary problems using the shooting method use `FlexibleTraj` to define their trajectories, instead of `dm.Trajectory()`. Similar to collocation problems, SGM will loop through the phases specified in the `phase_info` to build up the trajectory. When creating an SGM trajectory, the variables that will be used as inputs and outputs for states, triggers, and variables, including phase specific ones, are specified."
   ]
  },
  {
   "cell_type": "code",
   "execution_count": null,
   "metadata": {},
   "outputs": [],
   "source": [
    "from aviary.mission.gasp_based.phases.time_integration_traj import FlexibleTraj\n",
    "from aviary.interface.default_phase_info.two_dof_fiti import phase_info, add_default_sgm_args\n",
    "\n",
    "add_default_sgm_args(phase_info, ode_args)\n",
    "\n",
    "full_traj = FlexibleTraj(\n",
    "    Phases=phase_info,\n",
    "    traj_final_state_output=[\n",
    "        Dynamic.Mission.MASS,\n",
    "        Dynamic.Mission.DISTANCE,\n",
    "    ],\n",
    "    traj_initial_state_input=[\n",
    "        Dynamic.Mission.MASS,\n",
    "        Dynamic.Mission.DISTANCE,\n",
    "        Dynamic.Mission.ALTITUDE,\n",
    "    ],\n",
    "    traj_event_trigger_input=[\n",
    "        # specify ODE, output_name, with units that SimuPyProblem expects\n",
    "        # assume event function is of form ODE.output_name - value\n",
    "        # third key is event_idx associated with input\n",
    "        ('groundroll', Dynamic.Mission.VELOCITY, 0,),\n",
    "        ('climb3', Dynamic.Mission.ALTITUDE, 0,),\n",
    "        ('cruise', Dynamic.Mission.MASS, 0,),\n",
    "    ],\n",
    "    traj_intermediate_state_output=[\n",
    "        ('cruise', Dynamic.Mission.DISTANCE),\n",
    "        ('cruise', Dynamic.Mission.MASS),\n",
    "    ]\n",
    ")"
   ]
  },
  {
   "cell_type": "markdown",
   "metadata": {},
   "source": [
    "Because all phases require `ode_args` and `simupy_args` which are usually the same for all phases, `add_default_sgm_args` has been provided to add these to the phase info automatically.\n",
    "\n",
    "### Setting up Phase Info\n",
    "\n",
    "By default, SGM uses the `two_dof_fiti` (two degree of freedom, forward in time integration) phase_info, which contains the information required to build the default trajectory used by GASP. This phase info can be imported all at once or in a few pre-defined groups:\n",
    "phase_info contains all the phases from ascent_phases (which is composed of takeoff_phases and climb_phases), cruise_phases, and descent_phases."
   ]
  },
  {
   "cell_type": "code",
   "execution_count": null,
   "metadata": {},
   "outputs": [],
   "source": [
    "from aviary.interface.default_phase_info.two_dof_fiti import phase_info\n",
    "from aviary.interface.default_phase_info.two_dof_fiti import takeoff_phases, climb_phases, descent_phases"
   ]
  },
  {
   "cell_type": "markdown",
   "metadata": {},
   "source": [
    "`phase_info_parameterization` can be used to update the values of certain variables, like speed_trigger or cruise_alt using values from the input deck.\n",
    "\n",
    "## Descent Fuel Estimation\n",
    "\n",
    "In the current formulation of the trajectory, the fuel and/or distance required for the descent are required a priori for the cruise trigger. This can be achieved by adding a submodel that contains just the descent trajectory before the main trajectory is created. The value that results from the aircraft flying this descent can then be connected to trigger values in the main trajectory.\n",
    "\n",
    "The default descent that is flown using the `two_dof_fiti` phase_info is an idle descent."
   ]
  },
  {
   "cell_type": "code",
   "execution_count": null,
   "metadata": {},
   "outputs": [],
   "source": [
    "from aviary.mission.gasp_based.idle_descent_estimation import add_descent_estimation_as_submodel"
   ]
  },
  {
   "cell_type": "code",
   "execution_count": null,
   "metadata": {
    "tags": [
     "remove-cell"
    ]
   },
   "outputs": [],
   "source": [
    "# Testing Cell\n",
    "from aviary.interface.default_phase_info.two_dof_fiti import descent_phases\n",
    "from aviary.docs.tests.utils import check_value\n",
    "\n",
    "for phase_name, phase in descent_phases.items():\n",
    "    check_value(phase['user_options'][Dynamic.Mission.THROTTLE],(0, 'unitless'))"
   ]
  }
 ],
 "metadata": {
  "kernelspec": {
   "display_name": "latest_env",
   "language": "python",
   "name": "python3"
  },
  "language_info": {
   "codemirror_mode": {
    "name": "ipython",
    "version": 3
   },
   "file_extension": ".py",
   "mimetype": "text/x-python",
   "name": "python",
   "nbconvert_exporter": "python",
   "pygments_lexer": "ipython3",
   "version": "3.10.13"
  }
 },
 "nbformat": 4,
 "nbformat_minor": 2
}
