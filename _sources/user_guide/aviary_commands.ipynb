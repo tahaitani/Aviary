{
 "cells": [
  {
   "attachments": {},
   "cell_type": "markdown",
   "metadata": {},
   "source": [
    "# Command Line Tools\n",
    "\n",
    "Aviary has a number of command line tools that are available via the `aviary`\n",
    "command.\n",
    "\n",
    "```{note}\n",
    "When using a command line tool on a script that takes its own command line arguments, those\n",
    "arguments must be placed after a `--` on the command line.  Anything to the right of the\n",
    "`--` will be ignored by the Aviary command line parser and passed on to the user script.\n",
    "For example: `Aviary sub_command -o foo.html myscript.py -- -x --myarg=bar` would pass\n",
    "`-x` and `--myarg=bar` as args to `myscript.py`.\n",
    "```\n",
    "\n",
    "All available `aviary` sub-commands can be shown using the following command:"
   ]
  },
  {
   "attachments": {},
   "cell_type": "markdown",
   "metadata": {},
   "source": [
    "```\n",
    "aviary -h\n",
    "```"
   ]
  },
  {
   "cell_type": "code",
   "execution_count": null,
   "metadata": {
    "tags": [
     "remove-input"
    ]
   },
   "outputs": [],
   "source": [
    "!aviary -h"
   ]
  },
  {
   "attachments": {},
   "cell_type": "markdown",
   "metadata": {},
   "source": [
    "To get further info on any sub-command, follow the command with a *-h*.  For example:"
   ]
  },
  {
   "attachments": {},
   "cell_type": "markdown",
   "metadata": {},
   "source": [
    "```\n",
    "aviary run_mission -h\n",
    "```"
   ]
  },
  {
   "cell_type": "code",
   "execution_count": null,
   "metadata": {
    "tags": [
     "remove-input"
    ]
   },
   "outputs": [],
   "source": [
    "!aviary run_mission -h"
   ]
  },
  {
   "attachments": {},
   "cell_type": "markdown",
   "metadata": {},
   "source": [
    "## Available Commands and Their Usage\n",
    "\n",
    "\n",
    "(aviary-run_mission-command)=\n",
    "### aviary run_mission\n",
    "\n",
    "`run_mission` is a command line interface that will run an analysis on a given csv input file.\n",
    "\n",
    "To use small_single_aisle_GwGm.csv run the command `aviary run_mission models/small_single_aisle/small_single_aisle_GwGm.csv`<br>\n",
    "\n",
    "SNOPT is the default optimizer, but IPOPT is available as well."
   ]
  },
  {
   "cell_type": "code",
   "execution_count": null,
   "metadata": {
    "tags": [
     "remove-cell"
    ]
   },
   "outputs": [],
   "source": [
    "# Testing Cell\n",
    "import subprocess\n",
    "command = 'aviary run_mission models/small_single_aisle/small_single_aisle_GwGm.csv'\n",
    "command += ' --max_iter 0 --optimizer IPOPT' # max_iter to limit build time, IPOPT to run on CI\n",
    "subprocess.run(command.split()).check_returncode();\n"
   ]
  },
  {
   "attachments": {},
   "cell_type": "markdown",
   "metadata": {},
   "source": [
    "```\n",
    "aviary run_mission -h\n",
    "```"
   ]
  },
  {
   "cell_type": "code",
   "execution_count": null,
   "metadata": {
    "tags": [
     "remove-input"
    ]
   },
   "outputs": [],
   "source": [
    "!aviary run_mission -h"
   ]
  },
  {
   "attachments": {},
   "cell_type": "markdown",
   "metadata": {},
   "source": [
    "(aviary-fortran_to_aviary-command)=\n",
    "### aviary fortran_to_aviary\n",
    "\n",
    "The `aviary fortran_to_aviary` command will convert a Fortran input deck to an Aviary csv.\n",
    "\n",
    "The only required input is the filepath to the input deck.\n",
    "Optionally, a deck of default values can be specified, this is useful if an input deck assumes certain values for any unspecified variables.\n",
    "If an invalid filepath is given, pre-packaged resources will be checked for input decks with a matching name.\n",
    "\n",
    "Notes for input decks:\n",
    "- FLOPS, GASP, or Aviary names can be used for variables (Ex WG or Mission:Design:GROSS_MASS)\n",
    "- When specifying variables from FORTRAN, they should be in the appropriate NAMELIST.\n",
    "- Aviary variable names should be specified outside any NAMELISTS.\n",
    "- Names are not case-sensitive.\n",
    "- Units can be specified using any of the openMDAO valid units.\n",
    "- Comments can be added using !\n",
    "- Lists can be entered by separating values with commas.\n",
    "- Individual list elements can be specified by adding an index after the variable name.\n",
    "- (NOTE: 1 indexing is used inside NAMELISTS, while 0 indexing is used outside NAMELISTS)\n",
    "\n",
    "Example inputs:\n",
    "```\n",
    "aircraft:fuselage:pressure_differential = .5, atm !DELP in GASP, but using atmospheres instead of psi\n",
    "ARNGE(1) = 3600 !target range in nautical miles\n",
    "pyc_phases = taxi, groundroll, rotation, landing\n",
    "```\n"
   ]
  },
  {
   "attachments": {},
   "cell_type": "markdown",
   "metadata": {},
   "source": [
    "```\n",
    "aviary fortran_to_aviary -h\n",
    "```"
   ]
  },
  {
   "cell_type": "code",
   "execution_count": null,
   "metadata": {
    "tags": [
     "remove-input"
    ]
   },
   "outputs": [],
   "source": [
    "!aviary fortran_to_aviary -h"
   ]
  },
  {
   "cell_type": "markdown",
   "metadata": {},
   "source": [
    "(aviary-hangar-command)=\n",
    "### aviary hangar\n",
    "\n",
    "The `aviary hangar` command will copy files and folders from the Aviary hangar to an accessible directory.\n",
    "This is useful for users that have pip installed Aviary, but want to experiment with the included examples.\n",
    "\n",
    "The only required input is the name of an input deck.\n",
    "This can be specified as the name of the file, the path from [aviary/models](https://github.com/OpenMDAO/Aviary/tree/main/aviary/models), the name of a folder in aviary/models. Multiple files and folders can be copied at once.\n",
    "Optionally, the output directory can be specified; if it is not, the files will be copied into the current working directory in a folder called aviary_models.\n",
    "If specified, the output directory will be created as needed.\n",
    "\n",
    "Example usage:\n",
    "```\n",
    "`aviary hangar engines` Copy all files in the engines folder\n",
    "`aviary hangar turbofan_22k.txt` Copy the 22k turbofan deck\n",
    "`aviary hangar N3CC/N3CC_data.py` Copy the N3CC data\n",
    "`aviary hangar small_single_aisle_GwGm.dat small_single_aisle_GwGm.csv` Copy the Fortran and Aviary input decks for the small single aisle\n",
    "`aviary hangar turbofan_22k.txt -o ~/example_files` Copy the engine model into ~/example_files\n",
    "```\n"
   ]
  },
  {
   "cell_type": "code",
   "execution_count": null,
   "metadata": {
    "tags": [
     "remove-cell"
    ]
   },
   "outputs": [],
   "source": [
    "# Testing Cell\n",
    "import subprocess\n",
    "import tempfile\n",
    "import os\n",
    "commands = [\n",
    "    'engines','turbofan_22k.txt','N3CC/N3CC_data.py',\n",
    "    'small_single_aisle_GwGm.dat small_single_aisle_GwGm.csv',\n",
    "    'turbofan_22k.txt -o ~/example_files']\n",
    "with tempfile.TemporaryDirectory() as tempdir:\n",
    "    os.chdir(tempdir)\n",
    "    for command in commands:\n",
    "        command = 'aviary hangar '+command\n",
    "        subprocess.run(command.split()).check_returncode();"
   ]
  },
  {
   "cell_type": "markdown",
   "metadata": {},
   "source": [
    "```\n",
    "aviary hangar -h\n",
    "```"
   ]
  },
  {
   "cell_type": "code",
   "execution_count": null,
   "metadata": {
    "tags": [
     "remove-input"
    ]
   },
   "outputs": [],
   "source": [
    "!aviary hangar -h"
   ]
  },
  {
   "cell_type": "markdown",
   "metadata": {},
   "source": [
    "(aviary-EDC-command)=\n",
    "### aviary convert_engine\n",
    "\n",
    "The `aviary convert_engine` command will convert a legacy formatted (FLOPS or GASP) engine deck into an Aviary formatted engine deck.\n",
    "\n",
    "Users must provide the path or name of an input deck, the path to the output file, and the engine format being converted.\n",
    "If an invalid filepath is given for the input file, pre-packaged resources will be checked for input decks with a matching name.\n",
    "\n",
    "Notes for input decks:\n",
    "- TurboFan decks for both FLOPS and GASP can be converted\n",
    "- TurboProp decks for GASP can also be converted\n",
    "- Comments can be added using #\n",
    "\n",
    "\n",
    "Example usage:\n",
    "```\n",
    "`aviary convert_engine turbofan_23k_1.eng turbofan_23k_1_lbm_s.deck -f GASP` Convert a GASP based turbofan\n",
    "`aviary convert_engine -f FLOPS turbofan_22k.eng turbofan_22k.txt` Convert a FLOPS based turbofan\n",
    "`aviary convert_engine turboprop_4465hp.eng turboprop_4465hp.deck --data_format GASP_TP` Convert a GASP based turboprop\n",
    "```\n"
   ]
  },
  {
   "cell_type": "code",
   "execution_count": null,
   "metadata": {
    "tags": [
     "remove-cell"
    ]
   },
   "outputs": [],
   "source": [
    "# Testing Cell\n",
    "from aviary.docs.tests.utils import run_command_no_file_error\n",
    "commands = [\n",
    "    'turbofan_23k_1.eng turbofan_23k_1_lbm_s.deck -f GASP',\n",
    "    'turbofan_22k.eng turbofan_22k.txt -f FLOPS',\n",
    "    'turboprop_4465hp.eng turboprop_4465hp.deck -f GASP_TP',\n",
    "    ]\n",
    "for command in commands:\n",
    "    run_command_no_file_error('aviary convert_engine '+command)"
   ]
  },
  {
   "cell_type": "markdown",
   "metadata": {},
   "source": [
    "```\n",
    "aviary convert_engine -h\n",
    "```"
   ]
  },
  {
   "cell_type": "code",
   "execution_count": null,
   "metadata": {
    "tags": [
     "remove-input"
    ]
   },
   "outputs": [],
   "source": [
    "!aviary convert_engine -h"
   ]
  },
  {
   "cell_type": "markdown",
   "metadata": {},
   "source": [
    "(aviary-ATC-command)=\n",
    "### aviary convert_aero_table\n",
    "\n",
    "The `aviary convert_aero_table` command will convert a legacy formatted (FLOPS or GASP) aero table into an Aviary formatted aero table.\n",
    "\n",
    "Users must provide the path or name of an input deck and the data format being converted.\n",
    "Optionally, the path to the output file can also be specified, otherwise the default output file will be in the same location and have the same name as input file, but with '_aviary' appended to filename.\n",
    "If an invalid filepath is given for the input file, pre-packaged resources will be checked for input decks with a matching name.\n",
    "\n",
    "Notes for input decks:\n",
    "- Aero tables for both FLOPS and GASP can be converted\n",
    "- GASP tables will create a single file containing all the lift and drag information\n",
    "- FLOPS tables will create two files, one containing the lift-dependent drag and the other containing the lift-independent drag.\n",
    "- Comments can be added using #\n",
    "\n",
    "\n",
    "Example usage:\n",
    "```\n",
    "`aviary convert_aero_table -f GASP subsystems/aerodynamics/gasp_based/data/GASP_aero_free.txt large_single_aisle_1_aero_flaps.txt` Convert a GASP based aero table\n",
    "`aviary convert_aero_table -f FLOPS utils/test/flops_test_polar.txt aviary_flops_polar.txt` Convert a FLOPS based aero table\n",
    "```\n"
   ]
  },
  {
   "cell_type": "code",
   "execution_count": null,
   "metadata": {
    "tags": [
     "remove-cell"
    ]
   },
   "outputs": [],
   "source": [
    "# Testing Cell\n",
    "from aviary.docs.tests.utils import run_command_no_file_error\n",
    "commands = [\n",
    "    '-f GASP subsystems/aerodynamics/gasp_based/data/GASP_aero_free.txt large_single_aisle_1_aero_flaps.txt',\n",
    "    '-f FLOPS utils/test/flops_test_polar.txt aviary_flops_polar.txt',\n",
    "]\n",
    "for command in commands:\n",
    "    run_command_no_file_error('aviary convert_aero_table '+command)\n"
   ]
  },
  {
   "cell_type": "markdown",
   "metadata": {},
   "source": [
    "```\n",
    "aviary convert_aero_table -h\n",
    "```"
   ]
  },
  {
   "cell_type": "code",
   "execution_count": null,
   "metadata": {
    "tags": [
     "remove-input"
    ]
   },
   "outputs": [],
   "source": [
    "!aviary convert_aero_table -h"
   ]
  },
  {
   "cell_type": "markdown",
   "metadata": {},
   "source": [
    "(aviary-PMC-command)=\n",
    "### aviary convert_prop_table\n",
    "\n",
    "The `aviary convert_prop_table` command will convert a legacy formatted (GASP) propeller map into an Aviary formatted propeller map.\n",
    "\n",
    "Users must provide the path or name of an input deck, the path to the output file, and the engine format being converted.\n",
    "If an invalid filepath is given for the input file, pre-packaged resources will be checked for input decks with a matching name.\n",
    "\n",
    "Notes for input decks:\n",
    "- There are two options for Mach number: Mach number and helical Mach number at 75% radius. We provide one example for each. This is the first integer on the first line of the input file. (1 = Mach, 2 = helical Mach)\n",
    "- Comments can be added using #\n",
    "\n",
    "\n",
    "Example usage:\n",
    "```\n",
    "`aviary convert_prop_table -f GASP PropFan.map PropFan.prop` Convert a GASP based propeller map\n",
    "`aviary convert_prop_table -f GASP general_aviation.map general_aviation.prop` Convert a GASP based propeller map\n",
    "```\n",
    "\n",
    "The first example uses Mach number and the second example uses helical Mach number. \n",
    "Note that the output file name can be skipped. Since there is only one input data format is supported at this time, input data format is defaulted to GASP if not provided."
   ]
  },
  {
   "cell_type": "markdown",
   "metadata": {},
   "source": [
    "```\n",
    "aviary convert_prop_table -h\n",
    "```"
   ]
  },
  {
   "cell_type": "code",
   "execution_count": null,
   "metadata": {
    "tags": [
     "remove-input"
    ]
   },
   "outputs": [],
   "source": [
    "!aviary convert_prop_table -h"
   ]
  }
 ],
 "metadata": {
  "celltoolbar": "Tags",
  "kernelspec": {
   "display_name": "Python 3",
   "language": "python",
   "name": "python3"
  },
  "language_info": {
   "codemirror_mode": {
    "name": "ipython",
    "version": 3
   },
   "file_extension": ".py",
   "mimetype": "text/x-python",
   "name": "python",
   "nbconvert_exporter": "python",
   "pygments_lexer": "ipython3",
   "version": "3.10.13"
  }
 },
 "nbformat": 4,
 "nbformat_minor": 4
}
