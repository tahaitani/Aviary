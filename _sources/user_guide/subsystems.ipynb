{
 "cells": [
  {
   "cell_type": "markdown",
   "metadata": {},
   "source": [
    "# SubsystemBuilderBase\n",
    "\n",
    "## Method Overview\n",
    "\n",
    "Here is a brief overview of the available methods that are used in the `SubsystemBuilderBase` object.\n",
    "The docstrings within this builder base class go into much more detail.\n",
    "This overview is automatically generated from the docstrings in the builder base class.\n",
    "\n",
    "We'll now detail where in the Aviary stack each one of these methods is used.\n",
    "Understanding this can be helpful for knowing which parts of the Aviary problem will be impacted by your subsystem.\n",
    "In the following outline, the methods listed at the top-level are defined in `methods_for_level2.py` and are called in this order to run an Aviary problem.\n",
    "Any sub-listed method is one that you can provide with your subsystem builder, showing where within the level 3 method hierarchy that subsystem method gets used.\n",
    "\n",
    "- `load_inputs` - loads the aviary_values inputs and options that the user specifies.\n",
    "- `check_and_preprocess_inputs` - checks the user-supplied input values for any potential problems.\n",
    "  - `preprocess_inputs`\n",
    "- `add_pre_mission_systems` - adds pre-mission Systems to the Aviary problem\n",
    "  - `get_mass_names`\n",
    "  - `build_pre_mission`\n",
    "- `add_phases` - adds mission phases to the Aviary problem\n",
    "  - `get_states`\n",
    "  - `get_constraints`\n",
    "  - `get_controls`\n",
    "  - `get_parameters`\n",
    "  - `build_mission`\n",
    "- `add_post_mission_systems` - adds the post-mission Systems to the Aviary problem\n",
    "  - `build_post_mission`\n",
    "- `link_phases` - links variables between phases\n",
    "  - `get_linked_variables`\n",
    "  - `get_bus_variables`\n",
    "- `add_driver` - adds the driver (usually an optimizer)\n",
    "- `add_design_variables` - adds the optimization design variables\n",
    "  - `get_design_vars`\n",
    "- `add_objective` - adds the user-selected objective\n",
    "- `setup` - sets up the Aviary problem\n",
    "  - `get_outputs`\n",
    "  - `define_order`\n",
    "- `set_initial_guesses` - sets the initial guesses for the Aviary problem\n",
    "  - `get_initial_guesses`\n",
    "- `run_aviary_problem` - actually runs the Aviary problem\n",
    "\n",
    "```{note}\n",
    "Understanding the flow of the above methods and how the subsystem methods are used within Aviary is pretty important! Make sure to review these methods and where in the stack they're used before digging too deep into debugging your subsystem.\n",
    "```\n"
   ]
  },
  {
   "cell_type": "code",
   "execution_count": null,
   "metadata": {
    "tags": [
     "remove-cell"
    ]
   },
   "outputs": [],
   "source": [
    "# Testing Cell\n",
    "from aviary.api import AviaryProblem\n",
    "\n",
    "expected_flow = [\n",
    "    'load_inputs','check_and_preprocess_inputs','add_pre_mission_systems',\n",
    "    'add_phases','add_post_mission_systems','link_phases','add_driver',\n",
    "    'add_design_variables','add_objective','setup','set_initial_guesses',\n",
    "    'run_aviary_problem'\n",
    "    ]\n",
    "\n",
    "for func in expected_flow:\n",
    "    getattr(AviaryProblem, func)\n",
    "    # ********NOTE********\n",
    "    # check functions in each function?"
   ]
  }
 ],
 "metadata": {
  "kernelspec": {
   "display_name": "latest_env",
   "language": "python",
   "name": "python3"
  },
  "language_info": {
   "codemirror_mode": {
    "name": "ipython",
    "version": 3
   },
   "file_extension": ".py",
   "mimetype": "text/x-python",
   "name": "python",
   "nbconvert_exporter": "python",
   "pygments_lexer": "ipython3",
   "version": "3.1.-1"
  }
 },
 "nbformat": 4,
 "nbformat_minor": 2
}
