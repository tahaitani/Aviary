{
 "cells": [
  {
   "cell_type": "markdown",
   "metadata": {},
   "source": [
    "# Reserve Mission\n",
    "\n",
    "## Overview\n",
    "\n",
    "Reserve missions are enabled for the following mission types:\n",
    "\n",
    "* height_energy    (completed)\n",
    "* 2ODF (collocation) (complete)\n",
    "* 2DOF (shooting)    (in-progress)\n",
    "* height_energy (shooting)    (future work)\n",
    "\n",
    "A reserve mission can be created by appending one or more reserve phases to `phase_info` after the last phase of the regular mission.\n",
    "To create a simple reserve mission, copy your current cruise phase which is located in `phase_info`.\n",
    "\n",
    "```{note}\n",
    "You may need to revise some of your assumptions for the copied phase if you are making a reserve phase that is radically different than the original (i.e. original phase was to travel 3000km but reserve phase is 100km).\n",
    "```\n",
    "\n",
    "Append that phase to the end of `phase_info`, name it `reserve_cruise` and add `\"reserve\": True,` to `user_options` for this phase.\n",
    "There are two optional flags that can now be added to `user_options`.\n",
    "The `\"target_duration\"` option creates a phase requiring the aircraft to fly for a specific amount of time.\n",
    "The `\"target_distance\"` option creates a phase requiring the aircraft to fly for a specific distance.\n",
    "Avoid using the optional flag if you have a reserve phase (i.e climb or descent) where you just want that phase to be completed as quickly as possible.\n",
    "The optional flags should not be combined as they will create overlapping constraints creating an infeasible problem."
   ]
  },
  {
   "cell_type": "code",
   "execution_count": null,
   "metadata": {
    "tags": [
     "remove-cell"
    ]
   },
   "outputs": [],
   "source": [
    "# Testing Cell\n",
    "from aviary.mission.flight_phase_builder import FlightPhaseBase\n",
    "import os\n",
    "import aviary.api as av\n",
    "from importlib.machinery import SourceFileLoader\n",
    "from aviary.docs.tests.utils import check_contains\n",
    "\n",
    "gasp_phase_path = av.get_path(os.path.join('mission','gasp_based','phases'))\n",
    "files = os.listdir(gasp_phase_path)\n",
    "phases = [FlightPhaseBase]\n",
    "for file in files:\n",
    "    if '_phase.py' in file:\n",
    "        file_path = os.path.join(str(gasp_phase_path),file)\n",
    "        phase_name = file.split('_phase.py')[0].capitalize()\n",
    "        module = SourceFileLoader(phase_name, file_path).load_module()\n",
    "        phases.append(getattr(module, phase_name+'Phase'))\n",
    "\n",
    "for phase in phases:\n",
    "    phase_name = phase().__class__.__name__\n",
    "    if 'Groundroll' in phase_name:\n",
    "        continue # no reserve groundroll\n",
    "    check_contains(\n",
    "        ['reserve','target_duration','target_distance'],\n",
    "        phase._meta_data_,\n",
    "        error_string=\"{var} is not a valid key for \"+str(phase_name)\n",
    "    )"
   ]
  },
  {
   "cell_type": "markdown",
   "metadata": {},
   "source": [
    "You can chain together multiple reserve phases to make a complete reserve mission (i.e. climb to altitude, cruise for range, cruise for time, then descend).\n",
    "Examples of this are shown in `run_reserve_mission_multiphase.py` and `run_2dof_reserve_mission_multiphase.py`."
   ]
  },
  {
   "cell_type": "code",
   "execution_count": null,
   "metadata": {
    "tags": [
     "remove-cell"
    ]
   },
   "outputs": [],
   "source": [
    "# Testing Cell\n",
    "from aviary.docs.tests.utils import check_contains\n",
    "import aviary.api as av\n",
    "import os\n",
    "\n",
    "reserve_examples = av.get_path(os.path.join('examples','reserve_missions'))\n",
    "check_contains(\n",
    "    ('run_reserve_mission_multiphase.py','run_2dof_reserve_mission_multiphase.py'),\n",
    "    os.listdir(reserve_examples),\n",
    "    error_string=\"{var} not in \"+str(reserve_examples),\n",
    "    error_type=FileNotFoundError)"
   ]
  },
  {
   "cell_type": "markdown",
   "metadata": {},
   "source": [
    "The first reserve phase will start at the same range and mass as the last regular phase, but all other states (i.e. altitude, Mach number) are not automatically connected.\n",
    "Thus you can fly climb, cruise, descent for regular phases and then immediately jump to an arbitrary altitude for the reserve mission.\n",
    "Or if you wanted to make things more realistic you could attach a climb phase and then add your reserve cruise.\n",
    "Make sure both the reserve climb and the reserve cruise phases both have `\"reserve\": True,` flag.\n",
    "\n",
    "### Examples\n",
    "\n",
    "Examples of single-phase and multi-phase reserve missions are presented in [Reserve Mission Examples](../examples/reserve_missions).\n",
    "\n",
    "### Caveats when using 2DOF\n",
    "\n",
    "If you are using 2DOF equations of motion (EOM) in your problem (i.e. `settings:equations_of_motion,2DOF`) there are some additional things you need to be aware of.\n",
    "The name of the reserve phase should include one of the keywords to indicate which EOM from 2DOF will be selected and the prefix `reserve_`.\n",
    "Valid keywords include: `rotation`, `accel`, `ascent`, `climb1`, `climb2`, `cruise`, `desc1`, `desc2`.\n",
    "This is because 2DOF uses different EOMs for different phases and we need to let `methods_for_level2.py` know which method to select.\n",
    "This is why in the example in the first paragraph above, the phase was named `reserve_cruise`.\n",
    "Cruise phases can have additional information in suffixes, but this isn't necessary.\n",
    "Do not worry about phase naming if you are using Height-Energy EOM as all those EOMs are the same for every phase."
   ]
  },
  {
   "cell_type": "code",
   "execution_count": null,
   "metadata": {
    "tags": [
     "remove-cell"
    ]
   },
   "outputs": [],
   "source": [
    "# Testing Cell\n",
    "from aviary.interface.utils.check_phase_info import phase_keys_gasp\n",
    "from aviary.docs.tests.utils import check_contains\n",
    "\n",
    "expected_phases = [phase for phase in phase_keys_gasp if phase!='groundroll'] # no reserve groundroll\n",
    "check_contains(\n",
    "    ['rotation','accel','ascent','climb1','climb2','cruise','desc1','desc2'],\n",
    "    expected_phases,\n",
    "    error_string=\"{var} is not a valid name for a 2DOF reserve phase, choose from \"+f\"{expected_phases}\"\n",
    "    )\n"
   ]
  },
  {
   "cell_type": "markdown",
   "metadata": {},
   "source": [
    "## Theory\n",
    "\n",
    "When adding a reserve phase, `check_and_preprocess_inputs()` divides all the phases into two dictionaries: `regular_phases` which contain your nominal phases and `reserve_phases` which contains any phases with the `reserve` flag set to `True`.\n",
    "Additionally, `check_and_preprocess_inputs()` will add the `\"analytic\"` flag to each phase.\n",
    "This is used to indicate if a phase is an analytic phase (i.e. Breguet range) or a ordinary differential equation (ODE).\n",
    "\n",
    "Only the final mission mass and range from `regular_phases` are automatically connected to the first point of the `reserve_phases`.\n",
    "All other state variables (i.e. altitude, mach) are not automatically connected, allowing you to start the reserve mission at whatever altitude you want.\n",
    "\n",
    "The `\"analytic\"` flag helps to properly connect phases for 2DOF missions.\n",
    "2DOF `cruise` missions are analytic because they use a Breguet range calculation instead of integrating an EOM. \n",
    "Analytic phases have a slightly different naming convention in order to access state/timeseries variables like distance, mass, and range compared with their non-analytic counterparts.\n",
    "\n",
    "You cannot create a reserve mission that enforces time or range constraints over multiple phases (i.e specify the total range covered by a climb + cruise + descent).\n",
    "This is because each constraint `\"target_distance\"` or `\"target_time\"` is only enforced on a single phase.\n",
    "\n",
    "It is essential that you run `prob.check_and_preprocess_inputs()` after `prob.load_inputs()` to make sure that regular and reserve phases are separated via `phase_separator()`."
   ]
  },
  {
   "cell_type": "code",
   "execution_count": null,
   "metadata": {
    "tags": [
     "remove-cell"
    ]
   },
   "outputs": [],
   "source": [
    "# Testing Cell\n",
    "from importlib.machinery import SourceFileLoader\n",
    "from aviary.interface.methods_for_level2 import AviaryProblem\n",
    "from aviary.interface.default_phase_info.two_dof import phase_info\n",
    "from aviary.interface.download_models import get_model\n",
    "from aviary.docs.tests.utils import check_contains\n",
    "import aviary.api as av\n",
    "import os\n",
    "\n",
    "prob = AviaryProblem()\n",
    "prob.load_inputs(get_model('aircraft_for_bench_GwGm.csv'), phase_info)\n",
    "prob.check_and_preprocess_inputs()\n",
    "\n",
    "gasp_phase_path = av.get_path(os.path.join('mission','gasp_based','phases'))\n",
    "for file in os.listdir(gasp_phase_path):\n",
    "    if '_phase.py' in file:\n",
    "        phase_name = file.split('_phase.py')[0].capitalize()\n",
    "        file_path = os.path.join(str(gasp_phase_path),file)\n",
    "        module = SourceFileLoader(phase_name, file_path).load_module()\n",
    "        check_contains(\n",
    "            'analytic',\n",
    "            getattr(module, phase_name+'Phase')._meta_data_,\n",
    "            error_string=f\"analytic is not a valid key for {phase_name}\",\n",
    "            error_type=NameError,\n",
    "        )"
   ]
  },
  {
   "cell_type": "markdown",
   "metadata": {},
   "source": [
    "### Advanced Users and Target Duration Phases\n",
    "\n",
    "For advanced users, instead of just copying a phase you used before, you might completely specify a new phase from scratch. \n",
    "When creating a `\"target_duration\"` reserve phase there are a number of values inside of `phase_info['user_options']` that are overwritten in `check_and_preprocess_inputs()`. \n",
    "Specifically, `duration_bounds`, `fixed_duration`, and `\"initial_guesses\": {\"time\"}` will be over-written. \n",
    "That is because if `\"target_duration\"` is specified, Aviary already knows what these other three values need to be: `target_duration = duration_bounds = \"initial_guesses\": {\"time\"}`, and `fix_duration = True`."
   ]
  },
  {
   "cell_type": "code",
   "execution_count": null,
   "metadata": {
    "tags": [
     "remove-cell"
    ]
   },
   "outputs": [],
   "source": [
    "# Testing Cell\n",
    "from aviary.interface.methods_for_level2 import AviaryProblem\n",
    "from aviary.interface.default_phase_info.two_dof import phase_info\n",
    "from aviary.interface.download_models import get_model\n",
    "from copy import deepcopy\n",
    "from aviary.docs.tests.utils import check_value\n",
    "\n",
    "climb1_info = deepcopy(phase_info['climb1'])\n",
    "phase_info_for_test = {'climb1': climb1_info}\n",
    "user_options = climb1_info['user_options']\n",
    "user_options['reserve'] = True\n",
    "user_options['target_duration'] = (10, 'min')\n",
    "user_options['duration_bounds'] = ((30, 300), 's')\n",
    "climb1_info['initial_guesses']['time'] = ([1., 2.], 'min')\n",
    "\n",
    "prob = AviaryProblem()\n",
    "prob.load_inputs(get_model('aircraft_for_bench_GwGm.csv'), phase_info_for_test)\n",
    "prob.check_and_preprocess_inputs()\n",
    "\n",
    "values_of_interest = {\n",
    "    'target_duration': user_options['target_duration'],\n",
    "    'duration_bounds': user_options['duration_bounds'],\n",
    "    'fix_duration': user_options['fix_duration'],\n",
    "    'time': climb1_info['initial_guesses']['time']\n",
    "    }\n",
    "expected_values = {\n",
    "    'target_duration': (10, 'min'),\n",
    "    'duration_bounds': ((10, 10), 'min'),\n",
    "    'fix_duration': True,\n",
    "    'time': ((10, 10), 'min')}\n",
    "check_value(values_of_interest, expected_values)"
   ]
  },
  {
   "cell_type": "markdown",
   "metadata": {},
   "source": [
    "### Fuel Burn Calculations\n",
    "\n",
    "Fuel burn during the regular mission (`Mission.Summary.FUEL_BURNED`) is calculated only based on `regular_phases`.\n",
    "\n",
    "Reserve fuel (`Mission.Design.RESERVE_FUEL`) is the sum of `Aircraft.Design.RESERVE_FUEL_ADDITIONAL`, `Aircraft.Design.RESERVE_FUEL_FRACTION`, and `Mission.Summary.RESERVE_FUEL_BURNED`.\n",
    "\n",
    "* `RESERVE_FUEL_ADDITIONAL` is a fixed value (i.e. 300kg)\n",
    "* `RESERVE_FUEL_FRACTION` is based on a fraction of `Mission.Summary.FUEL_BURNED`\n",
    "* `RESERVE_FUEL_BURNED` is sum of fuel burn in all `reserve_phases`\n"
   ]
  },
  {
   "cell_type": "code",
   "execution_count": null,
   "metadata": {
    "tags": [
     "remove-cell"
    ]
   },
   "outputs": [],
   "source": [
    "# Testing Cell\n",
    "from aviary.api import Aircraft, Mission\n",
    "Mission.Summary.FUEL_BURNED;\n",
    "Mission.Design.RESERVE_FUEL;\n",
    "Aircraft.Design.RESERVE_FUEL_ADDITIONAL;\n",
    "Aircraft.Design.RESERVE_FUEL_FRACTION;\n",
    "Mission.Summary.RESERVE_FUEL_BURNED;"
   ]
  }
 ],
 "metadata": {
  "kernelspec": {
   "display_name": "latest_env",
   "language": "python",
   "name": "python3"
  },
  "language_info": {
   "codemirror_mode": {
    "name": "ipython",
    "version": 3
   },
   "file_extension": ".py",
   "mimetype": "text/x-python",
   "name": "python",
   "nbconvert_exporter": "python",
   "pygments_lexer": "ipython3",
   "version": "3.10.13"
  }
 },
 "nbformat": 4,
 "nbformat_minor": 2
}
