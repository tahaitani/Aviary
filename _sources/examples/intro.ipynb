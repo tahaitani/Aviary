{
 "cells": [
  {
   "cell_type": "markdown",
   "metadata": {},
   "source": [
    "# Discussing the Aviary Examples\n",
    "\n",
    "## Current Aviary examples\n",
    "\n",
    "Aviary provides a range of built-in examples that serve as both regression tests and demonstrations of the tool's capabilities.\n",
    "These examples showcase various full mission analysis and optimization problems, incorporating different subsystem analyses from FLOPS and GASP.\n",
    "You can find these examples [here](https://github.com/OpenMDAO/Aviary/tree/main/aviary/examples).\n",
    "\n",
    "In addition to the examples for core Aviary, we also provide some examples for using external subsystems.\n",
    "These are contained in the `aviary/examples/external_subsystems` folder.\n",
    "Currently, the folder contains a few different examples, including a battery external subsystem and an example integration with [OpenAeroStruct](https://github.com/mdolab/OpenAerostruct/).\n",
    "These examples provide a valuable starting point, especially for users interested in integrating their own subsystems into an Aviary model.\n"
   ]
  },
  {
   "cell_type": "code",
   "execution_count": null,
   "metadata": {
    "tags": [
     "remove-cell"
    ]
   },
   "outputs": [],
   "source": [
    "# Testing Cell\n",
    "from aviary.utils.functions import get_path\n",
    "get_path('examples/external_subsystems')"
   ]
  },
  {
   "cell_type": "markdown",
   "metadata": {},
   "source": [
    "## Future examples\n",
    "\n",
    "Aviary's collection of examples is expected to undergo significant expansion in the future, particularly as the user interface continues to evolve and more individuals start using the tool.\n",
    "The current set of examples provides a solid foundation for understanding Aviary's capabilities and serves as a reference for users.\n",
    "However, there are plans to greatly expand and diversify the examples to cater to a wider range of aircraft analysis and optimization scenarios."
   ]
  }
 ],
 "metadata": {
  "kernelspec": {
   "display_name": "latest_env",
   "language": "python",
   "name": "python3"
  },
  "language_info": {
   "codemirror_mode": {
    "name": "ipython",
    "version": 3
   },
   "file_extension": ".py",
   "mimetype": "text/x-python",
   "name": "python",
   "nbconvert_exporter": "python",
   "pygments_lexer": "ipython3",
   "version": "3.10.13"
  }
 },
 "nbformat": 4,
 "nbformat_minor": 2
}
