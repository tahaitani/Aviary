{
 "cells": [
  {
   "cell_type": "markdown",
   "metadata": {},
   "source": [
    "# Reserve Mission Examples\n",
    "\n",
    "The reserve mission examples are broken up into two sections: height-energy missions, and 2DOF missions.\n",
    "By default Aviary uses a height-energy formulation unless you have specified otherwise.\n",
    "Single phase reserves for fixed-time and fixed-range will be presented as well as an example of a multiphase reserve mission.\n",
    "An overview of how to formulate a reserve mission is presented in [Reserve Mission User Guide](../user_guide/reserve_missions).\n",
    "\n",
    "All of the reserve mission examples are available in `aviary/examples/reserve_missions/`\n",
    "The examples start with `run_basic_aviary_example.py` and add reserve phases.\n",
    "The 2DOF examples use `aircraft_for_bench_GwGm` instead of `aircraft_for_bench_FwFm` and import the default two_dof phase_info instead of the `example_phase_info`.\n",
    "\n",
    "## Fixed Range Reserve\n",
    "\n",
    "The simplest example of a reserve mission implementation can be seen in fixed-range examples, which add a fixed-range cruise to the end of the basic mission.\n",
    "\n",
    "* Height Energy: `run_reserve_mission_fixedrange.py`\n",
    "* Two Degree of Freedom: `run_2dof_reserve_mission_fixedrange.py`\n",
    "\n",
    "This is performed by making a copy the cruise `phase_info` object and adding `\"reserve\": True,` and `\"target_distance\": (200, 'km'),`."
   ]
  },
  {
   "cell_type": "code",
   "execution_count": null,
   "metadata": {
    "tags": [
     "remove-cell"
    ]
   },
   "outputs": [],
   "source": [
    "# Testing Cell\n",
    "from aviary.examples.reserve_missions.run_reserve_mission_fixedrange import phase_info\n",
    "from aviary.interface.utils.check_phase_info import check_phase_info, HEIGHT_ENERGY\n",
    "from aviary.docs.tests.utils import check_value\n",
    "\n",
    "check_phase_info(phase_info, HEIGHT_ENERGY);\n",
    "user_opts = phase_info['reserve_cruise']['user_options']\n",
    "check_value(user_opts['target_distance'],(200, 'km'))\n",
    "check_value(user_opts['reserve'],True)"
   ]
  },
  {
   "cell_type": "markdown",
   "metadata": {},
   "source": [
    "The results of this study are shown in the `traj_results_report.html`.\n",
    "The first thing we review is the altitude plot.\n",
    "This plot clearly shows that a reserve cruise phase was created at the end of the regular mission.\n",
    "There is no climb phase in that reserve; we jump to cruising altitude and cruise for 200 km.\n",
    "\n",
    "![Altitude](images/fixed_range_cruise_altitude.png \"Altitude vs. Time for Fixed Range Cruise Reserve Example\")\n",
    "\n",
    "Additionally when looking at the mass and distance plots from the same study, we can see that the regular and reserve phases are connected properly.\n",
    "There is no discontinuity between regular and reserve phases for either distance or mass.\n",
    "\n",
    "![Distance](images/fixed_range_cruise_distance.png \"Distance vs. Time for Fixed Range Cruise Reserve Example\")\n",
    "![Mass](images/fixed_range_cruise_mass.png \"Mass vs. Time for Fixed Range Cruise Reserve Example\")\n",
    "\n",
    "## Fixed Time Reserve\n",
    "\n",
    "Similar to the fixed-range example, a simple fixed-time reserve mission is also provided.\n",
    "\n",
    "* Height Energy: `run_reserve_mission_fixedtime.py`\n",
    "* Two Degree of Freedom: `run_2dof_reserve_mission_fixedtime.py`\n",
    "\n",
    "Again, we make a copy of the cruise phase from `phase_info` and then modify it by adding `\"reserve\": True,` and `\"target_duration\": (30, 'min'),`.\n",
    "We have also removed other references to time in the reserve phase definition.\n",
    "We do not list `initial_guesses:time`, `user_options:duration_bounds`, or `user_options:fixed_duration`.\n",
    "All of these are set automatically when we set `target_duration`.\n",
    "\n",
    "## Multiphase Reserve Mission\n",
    "\n",
    "The last example reserve mission includes five phases: climb, cruise for distance, cruise for time, cruise for distance, descend.\n",
    "\n",
    "* Height Energy: `run_reserve_mission_multiphase.py`\n",
    "* Two Degree of Freedom: `run_2dof_reserve_mission_multiphase.py`\n",
    "\n",
    "This demonstrates how to create an arbitrarily ordered set of phases for reserve, including climb and descent phases.\n",
    "All of these reserve phases are tagged with `\"reserve\": True,`.\n",
    "\n",
    "Results from this mission can be seen in the figure below.\n",
    "![Multiphase](images/multiphase_reserve.png \"Distance vs. Time for Multiphase Reserve Example\")\n",
    "There are three distinct cruise segments and the added reserve climb and reserve descent show a more realistic flight profile for a diverted aircraft."
   ]
  }
 ],
 "metadata": {
  "kernelspec": {
   "display_name": "latest_env",
   "language": "python",
   "name": "python3"
  },
  "language_info": {
   "codemirror_mode": {
    "name": "ipython",
    "version": 3
   },
   "file_extension": ".py",
   "mimetype": "text/x-python",
   "name": "python",
   "nbconvert_exporter": "python",
   "pygments_lexer": "ipython3",
   "version": "3.1.-1"
  }
 },
 "nbformat": 4,
 "nbformat_minor": 2
}
