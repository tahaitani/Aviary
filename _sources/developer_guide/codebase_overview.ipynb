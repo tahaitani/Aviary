{
 "cells": [
  {
   "cell_type": "markdown",
   "metadata": {},
   "source": [
    "# Codebase Overview\n",
    "\n",
    "## Repository structure\n",
    "\n",
    "Within the Aviary repository and package, the codebase is structured as follows:\n",
    "\n",
    "- `docs` contains the doc files for Aviary\n",
    "- `examples` contains example code for using Aviary, including external subsystem examples\n",
    "- `interface` is where most code that users interact with is located\n",
    "- `mission` contains OpenMDAO components and groups for modeling the aircraft mission\n",
    "- `models` contains aircraft and propulsion models for use in Aviary examples and tests\n",
    "- `subsystems` is where the aerodynamic, propulsion, mass, and geometry core subsystems are located\n",
    "- `utils` contains utility functions for use in Aviary code, examples, and tests\n",
    "- `validation_cases` contains validation cases for testing and benchmarking Aviary\n",
    "- `variable_info` contains the variable meta data as well as several variable classes that are used in Aviary\n",
    "- `visualization` is where the Aviary dashboard is located"
   ]
  },
  {
   "cell_type": "code",
   "execution_count": null,
   "metadata": {
    "tags": [
     "remove-cell"
    ]
   },
   "outputs": [],
   "source": [
    "# Testing Cell\n",
    "import os\n",
    "from aviary.utils.functions import get_path\n",
    "from aviary.docs.tests.utils import check_contains\n",
    "directories = ['docs', 'examples', 'interface', 'mission', 'models', 'subsystems', 'utils', 'validation_cases', 'variable_info', 'visualization']\n",
    "folder  = get_path('docs').parent\n",
    "subfolders = [ f.name for f in os.scandir(folder) ]\n",
    "check_contains(directories, subfolders)"
   ]
  }
 ],
 "metadata": {
  "kernelspec": {
   "display_name": "latest_env",
   "language": "python",
   "name": "python3"
  },
  "language_info": {
   "codemirror_mode": {
    "name": "ipython",
    "version": 3
   },
   "file_extension": ".py",
   "mimetype": "text/x-python",
   "name": "python",
   "nbconvert_exporter": "python",
   "pygments_lexer": "ipython3",
   "version": "3.10.13"
  }
 },
 "nbformat": 4,
 "nbformat_minor": 2
}
